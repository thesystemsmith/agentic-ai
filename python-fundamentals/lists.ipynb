{
 "cells": [
  {
   "cell_type": "code",
   "execution_count": 1,
   "id": "96cf2e87",
   "metadata": {},
   "outputs": [
    {
     "name": "stdout",
     "output_type": "stream",
     "text": [
      "<class 'list'>\n"
     ]
    }
   ],
   "source": [
    "lst=[]\n",
    "print(type(lst))"
   ]
  },
  {
   "cell_type": "code",
   "execution_count": 3,
   "id": "d24212d9",
   "metadata": {},
   "outputs": [
    {
     "name": "stdout",
     "output_type": "stream",
     "text": [
      "['tahir', 'haha', 'luffy']\n"
     ]
    }
   ],
   "source": [
    "names = ['tahir', 'haha', 'luffy']\n",
    "print(names)"
   ]
  },
  {
   "cell_type": "code",
   "execution_count": 4,
   "id": "cf409c01",
   "metadata": {},
   "outputs": [
    {
     "name": "stdout",
     "output_type": "stream",
     "text": [
      "[22, 'tahir', 8.9]\n"
     ]
    }
   ],
   "source": [
    "mix= [22,'tahir', 8.90]\n",
    "print(mix)"
   ]
  },
  {
   "cell_type": "code",
   "execution_count": 11,
   "id": "2ef891fc",
   "metadata": {},
   "outputs": [
    {
     "name": "stdout",
     "output_type": "stream",
     "text": [
      "go\n",
      "rust\n",
      "['java', 'js', 'go', 'rust']\n",
      "['java', 'js']\n"
     ]
    }
   ],
   "source": [
    "##accessing\n",
    "langs = ['python', 'java', 'js','go','rust']\n",
    "print(langs[3])\n",
    "print(langs[-1])\n",
    "print(langs[1:])\n",
    "print(langs[1:3])"
   ]
  },
  {
   "cell_type": "code",
   "execution_count": 12,
   "id": "03ac801c",
   "metadata": {},
   "outputs": [
    {
     "name": "stdout",
     "output_type": "stream",
     "text": [
      "['python', 'node', 'js', 'go', 'rust']\n"
     ]
    }
   ],
   "source": [
    "##modify\n",
    "langs[1]='node'\n",
    "print(langs)"
   ]
  },
  {
   "cell_type": "code",
   "execution_count": null,
   "id": "18f2158c",
   "metadata": {},
   "outputs": [
    {
     "name": "stdout",
     "output_type": "stream",
     "text": [
      "['python', 'node', 'js', 'go', 'rust', 'js', 'js']\n"
     ]
    }
   ],
   "source": [
    "## list methods\n",
    "langs.append('js')\n",
    "print(langs)"
   ]
  },
  {
   "cell_type": "code",
   "execution_count": 15,
   "id": "b368089c",
   "metadata": {},
   "outputs": [
    {
     "name": "stdout",
     "output_type": "stream",
     "text": [
      "['python', 'java', 'node', 'js', 'go', 'rust', 'js', 'js']\n"
     ]
    }
   ],
   "source": [
    "langs.insert(1,'java')\n",
    "print(langs)"
   ]
  },
  {
   "cell_type": "code",
   "execution_count": null,
   "id": "1c0a4711",
   "metadata": {},
   "outputs": [
    {
     "name": "stdout",
     "output_type": "stream",
     "text": [
      "['python', 'java', 'node', 'go', 'rust', 'js', 'js']\n"
     ]
    }
   ],
   "source": [
    "langs.remove('js') ##first occurence\n",
    "print(langs)"
   ]
  },
  {
   "cell_type": "code",
   "execution_count": 17,
   "id": "142bf28d",
   "metadata": {},
   "outputs": [
    {
     "name": "stdout",
     "output_type": "stream",
     "text": [
      "js\n",
      "['python', 'java', 'node', 'go', 'rust', 'js']\n"
     ]
    }
   ],
   "source": [
    "val = langs.pop()\n",
    "print(val)\n",
    "print(langs)"
   ]
  },
  {
   "cell_type": "code",
   "execution_count": 18,
   "id": "1d74acbe",
   "metadata": {},
   "outputs": [
    {
     "name": "stdout",
     "output_type": "stream",
     "text": [
      "2\n"
     ]
    }
   ],
   "source": [
    "index = langs.index('node')\n",
    "print(index)"
   ]
  },
  {
   "cell_type": "code",
   "execution_count": 19,
   "id": "6d8b0ec5",
   "metadata": {},
   "outputs": [
    {
     "name": "stdout",
     "output_type": "stream",
     "text": [
      "1\n"
     ]
    }
   ],
   "source": [
    "print(langs.count('js'))"
   ]
  },
  {
   "cell_type": "code",
   "execution_count": null,
   "id": "dba61f15",
   "metadata": {},
   "outputs": [
    {
     "name": "stdout",
     "output_type": "stream",
     "text": [
      "None\n"
     ]
    }
   ],
   "source": [
    "langs.sort()"
   ]
  },
  {
   "cell_type": "code",
   "execution_count": 21,
   "id": "f8d435cb",
   "metadata": {},
   "outputs": [
    {
     "data": {
      "text/plain": [
       "['go', 'java', 'js', 'node', 'python', 'rust']"
      ]
     },
     "execution_count": 21,
     "metadata": {},
     "output_type": "execute_result"
    }
   ],
   "source": [
    "langs"
   ]
  },
  {
   "cell_type": "code",
   "execution_count": 22,
   "id": "3ce4c361",
   "metadata": {},
   "outputs": [],
   "source": [
    "langs.reverse()"
   ]
  },
  {
   "cell_type": "code",
   "execution_count": 23,
   "id": "770325d8",
   "metadata": {},
   "outputs": [
    {
     "data": {
      "text/plain": [
       "['rust', 'python', 'node', 'js', 'java', 'go']"
      ]
     },
     "execution_count": 23,
     "metadata": {},
     "output_type": "execute_result"
    }
   ],
   "source": [
    "langs"
   ]
  },
  {
   "cell_type": "code",
   "execution_count": 24,
   "id": "a5340d79",
   "metadata": {},
   "outputs": [],
   "source": [
    "langs.clear()"
   ]
  },
  {
   "cell_type": "code",
   "execution_count": 25,
   "id": "6514ef31",
   "metadata": {},
   "outputs": [
    {
     "data": {
      "text/plain": [
       "[]"
      ]
     },
     "execution_count": 25,
     "metadata": {},
     "output_type": "execute_result"
    }
   ],
   "source": [
    "langs"
   ]
  },
  {
   "cell_type": "code",
   "execution_count": 3,
   "id": "8641eef1",
   "metadata": {},
   "outputs": [
    {
     "name": "stdout",
     "output_type": "stream",
     "text": [
      "[3, 4, 5]\n",
      "[1, 2, 3, 4, 5]\n",
      "[6, 7, 8, 9, 10]\n",
      "[1, 3, 5, 7, 9]\n",
      "[10, 9, 8, 7, 6, 5, 4, 3, 2, 1]\n"
     ]
    }
   ],
   "source": [
    "#slicing list\n",
    "nums = [1,2,3,4,5,6,7,8,9,10]\n",
    "print(nums[2:5])\n",
    "print(nums[:5])\n",
    "print(nums[5:])\n",
    "print(nums[::2])\n",
    "print(nums[::-1])\n",
    "\n"
   ]
  },
  {
   "cell_type": "code",
   "execution_count": 4,
   "id": "7273bc22",
   "metadata": {},
   "outputs": [
    {
     "name": "stdout",
     "output_type": "stream",
     "text": [
      "0 1\n",
      "1 2\n",
      "2 3\n",
      "3 4\n",
      "4 5\n",
      "5 6\n",
      "6 7\n",
      "7 8\n",
      "8 9\n",
      "9 10\n"
     ]
    }
   ],
   "source": [
    "for idx, num in enumerate(nums):\n",
    "    print(idx, num)"
   ]
  },
  {
   "cell_type": "code",
   "execution_count": 5,
   "id": "a31dbed6",
   "metadata": {},
   "outputs": [
    {
     "name": "stdout",
     "output_type": "stream",
     "text": [
      "[0, 1, 4, 9, 16, 25, 36, 49, 64, 81]\n"
     ]
    }
   ],
   "source": [
    "##list comprehension\n",
    "lst = []\n",
    "for x in range(10):\n",
    "    lst.append(x**2)\n",
    "\n",
    "print(lst)"
   ]
  },
  {
   "cell_type": "code",
   "execution_count": 6,
   "id": "cb696772",
   "metadata": {},
   "outputs": [
    {
     "data": {
      "text/plain": [
       "[0, 1, 4, 9, 16, 25, 36, 49, 64, 81]"
      ]
     },
     "execution_count": 6,
     "metadata": {},
     "output_type": "execute_result"
    }
   ],
   "source": [
    "[x**2 for x in range(10)]"
   ]
  },
  {
   "cell_type": "code",
   "execution_count": 7,
   "id": "94467054",
   "metadata": {},
   "outputs": [
    {
     "data": {
      "text/plain": [
       "[0, 2, 4, 6, 8]"
      ]
     },
     "execution_count": 7,
     "metadata": {},
     "output_type": "execute_result"
    }
   ],
   "source": [
    "[num for num in range(10) if num%2==0]"
   ]
  },
  {
   "cell_type": "code",
   "execution_count": 8,
   "id": "b3311ca6",
   "metadata": {},
   "outputs": [
    {
     "data": {
      "text/plain": [
       "[[1, 'a'],\n",
       " [1, 'b'],\n",
       " [1, 'c'],\n",
       " [1, 'd'],\n",
       " [2, 'a'],\n",
       " [2, 'b'],\n",
       " [2, 'c'],\n",
       " [2, 'd'],\n",
       " [3, 'a'],\n",
       " [3, 'b'],\n",
       " [3, 'c'],\n",
       " [3, 'd'],\n",
       " [4, 'a'],\n",
       " [4, 'b'],\n",
       " [4, 'c'],\n",
       " [4, 'd']]"
      ]
     },
     "execution_count": 8,
     "metadata": {},
     "output_type": "execute_result"
    }
   ],
   "source": [
    "lst1 = [1,2,3,4]\n",
    "lst2 = ['a','b', 'c', 'd']\n",
    "\n",
    "pair = [[i,j] for i in lst1 for j in lst2]\n",
    "pair"
   ]
  },
  {
   "cell_type": "code",
   "execution_count": 9,
   "id": "0e6249e4",
   "metadata": {},
   "outputs": [
    {
     "data": {
      "text/plain": [
       "[5, 8, 5, 7]"
      ]
     },
     "execution_count": 9,
     "metadata": {},
     "output_type": "execute_result"
    }
   ],
   "source": [
    "words = ['tahir','software', 'admin','manager']\n",
    "lengths = [len(word) for word in words]\n",
    "lengths"
   ]
  },
  {
   "cell_type": "code",
   "execution_count": null,
   "id": "91c587a2",
   "metadata": {},
   "outputs": [],
   "source": []
  }
 ],
 "metadata": {
  "kernelspec": {
   "display_name": "Python 3",
   "language": "python",
   "name": "python3"
  },
  "language_info": {
   "codemirror_mode": {
    "name": "ipython",
    "version": 3
   },
   "file_extension": ".py",
   "mimetype": "text/x-python",
   "name": "python",
   "nbconvert_exporter": "python",
   "pygments_lexer": "ipython3",
   "version": "3.12.0"
  }
 },
 "nbformat": 4,
 "nbformat_minor": 5
}
