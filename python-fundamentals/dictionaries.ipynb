{
 "cells": [
  {
   "cell_type": "code",
   "execution_count": 1,
   "id": "1f988e33",
   "metadata": {},
   "outputs": [
    {
     "name": "stdout",
     "output_type": "stream",
     "text": [
      "<class 'dict'>\n"
     ]
    }
   ],
   "source": [
    "empty_dict = {}\n",
    "print(type(empty_dict))"
   ]
  },
  {
   "cell_type": "code",
   "execution_count": 2,
   "id": "c754250f",
   "metadata": {},
   "outputs": [
    {
     "name": "stdout",
     "output_type": "stream",
     "text": [
      "<class 'dict'>\n"
     ]
    }
   ],
   "source": [
    "empty_dict = dict()\n",
    "print(type(empty_dict))"
   ]
  },
  {
   "cell_type": "code",
   "execution_count": 5,
   "id": "1f9796d7",
   "metadata": {},
   "outputs": [
    {
     "name": "stdout",
     "output_type": "stream",
     "text": [
      "{'name': 'tahir', 'age': 25, 'grade': 10}\n",
      "<class 'dict'>\n"
     ]
    }
   ],
   "source": [
    "student = {'name': 'tahir', 'age': 25, 'grade': 10}\n",
    "print(student)\n",
    "print(type(student))"
   ]
  },
  {
   "cell_type": "code",
   "execution_count": null,
   "id": "c65dfa6e",
   "metadata": {},
   "outputs": [
    {
     "name": "stdout",
     "output_type": "stream",
     "text": [
      "{'name': 10, 'age': 25}\n"
     ]
    }
   ],
   "source": [
    "# error\n",
    "# single key is always used\n",
    "student = {'name': 'tahir', 'age': 25, 'name': 10}\n",
    "print(student)"
   ]
  },
  {
   "cell_type": "code",
   "execution_count": 11,
   "id": "320ec5c0",
   "metadata": {},
   "outputs": [
    {
     "name": "stdout",
     "output_type": "stream",
     "text": [
      "A\n",
      "25\n",
      "A\n",
      "25\n",
      "not available\n"
     ]
    }
   ],
   "source": [
    "#accessing elements\n",
    "student = {'name': 'tahir', 'age': 25, 'grade': 'A'}\n",
    "print(student['grade'])\n",
    "print(student['age'])\n",
    "\n",
    "\n",
    "print(student.get('grade'))\n",
    "print(student.get('age'))\n",
    "#default\n",
    "print(student.get('last_name', 'not available'))\n",
    "\n"
   ]
  },
  {
   "cell_type": "code",
   "execution_count": 12,
   "id": "ae2a0da6",
   "metadata": {},
   "outputs": [
    {
     "name": "stdout",
     "output_type": "stream",
     "text": [
      "{'name': 'tahir', 'age': 25, 'grade': 'A'}\n",
      "{'name': 'tahir', 'age': 90, 'grade': 'A'}\n",
      "{'name': 'tahir', 'age': 90, 'grade': 'A', 'address': 'india'}\n"
     ]
    }
   ],
   "source": [
    "#modify dict\n",
    "print(student)\n",
    "\n",
    "student['age'] = 90\n",
    "print(student)\n",
    "student['address'] = 'india'\n",
    "print(student)\n"
   ]
  },
  {
   "cell_type": "code",
   "execution_count": 13,
   "id": "d372fe64",
   "metadata": {},
   "outputs": [
    {
     "name": "stdout",
     "output_type": "stream",
     "text": [
      "{'name': 'tahir', 'age': 90, 'address': 'india'}\n"
     ]
    }
   ],
   "source": [
    "#delete\n",
    "del student['grade']\n",
    "print(student)"
   ]
  },
  {
   "cell_type": "code",
   "execution_count": 14,
   "id": "fef26ba5",
   "metadata": {},
   "outputs": [
    {
     "name": "stdout",
     "output_type": "stream",
     "text": [
      "dict_keys(['name', 'age', 'address'])\n",
      "dict_values(['tahir', 90, 'india'])\n",
      "dict_items([('name', 'tahir'), ('age', 90), ('address', 'india')])\n"
     ]
    }
   ],
   "source": [
    "#methods\n",
    "keys = student.keys()\n",
    "print(keys)\n",
    "\n",
    "values = student.values()\n",
    "print(values)\n",
    "\n",
    "items = student.items()\n",
    "print(items)\n",
    "\n"
   ]
  },
  {
   "cell_type": "code",
   "execution_count": null,
   "id": "9417b0d5",
   "metadata": {},
   "outputs": [
    {
     "name": "stdout",
     "output_type": "stream",
     "text": [
      "{'name': 'tahir', 'age': 90, 'address': 'india'}\n",
      "{'name': 'tahir', 'age': 90, 'address': 'india'}\n"
     ]
    }
   ],
   "source": [
    "#shallow\n",
    "#pass by ref - objects mutables\n",
    "\n",
    "student_copy = student\n",
    "print(student)\n",
    "print(student_copy)\n",
    "\n"
   ]
  },
  {
   "cell_type": "code",
   "execution_count": null,
   "id": "774219db",
   "metadata": {},
   "outputs": [
    {
     "name": "stdout",
     "output_type": "stream",
     "text": [
      "{'name': 'abdul', 'age': 90, 'address': 'india'}\n",
      "{'name': 'abdul', 'age': 90, 'address': 'india'}\n"
     ]
    }
   ],
   "source": [
    "student['name'] = 'abdul'\n",
    "print(student)\n",
    "print(student_copy)\n",
    "\n",
    "#both got updated"
   ]
  },
  {
   "cell_type": "code",
   "execution_count": null,
   "id": "72b1f4e4",
   "metadata": {},
   "outputs": [
    {
     "name": "stdout",
     "output_type": "stream",
     "text": [
      "{'name': 'abdul', 'age': 90, 'address': 'india'}\n",
      "{'name': 'abdul', 'age': 90, 'address': 'india'}\n"
     ]
    }
   ],
   "source": [
    "#deep copy\n",
    "student_copy1 = student.copy()\n",
    "print(student)\n",
    "print(student_copy1)"
   ]
  },
  {
   "cell_type": "code",
   "execution_count": 18,
   "id": "7c865f4d",
   "metadata": {},
   "outputs": [
    {
     "name": "stdout",
     "output_type": "stream",
     "text": [
      "{'name': 'tahir', 'age': 90, 'address': 'india'}\n",
      "{'name': 'abdul', 'age': 90, 'address': 'india'}\n"
     ]
    }
   ],
   "source": [
    "student['name'] = 'tahir'\n",
    "print(student)\n",
    "print(student_copy1)"
   ]
  },
  {
   "cell_type": "code",
   "execution_count": 26,
   "id": "85f6e80c",
   "metadata": {},
   "outputs": [
    {
     "name": "stdout",
     "output_type": "stream",
     "text": [
      "name\n",
      "age\n",
      "address\n",
      "\n",
      "\n",
      "tahir\n",
      "90\n",
      "india\n",
      "\n",
      "\n",
      "name: tahir\n",
      "age: 90\n",
      "address: india\n"
     ]
    }
   ],
   "source": [
    "#iterate\n",
    "for keys in student.keys():\n",
    "    print(keys)\n",
    "\n",
    "print('\\n')\n",
    "\n",
    "for value in student.values():\n",
    "    print(value)\n",
    "\n",
    "print('\\n')\n",
    "\n",
    "\n",
    "for k,v in student.items():\n",
    "    print(f\"{k}: {v}\")"
   ]
  },
  {
   "cell_type": "code",
   "execution_count": 27,
   "id": "27d1bdcd",
   "metadata": {},
   "outputs": [
    {
     "name": "stdout",
     "output_type": "stream",
     "text": [
      "{'std1': {'name': 'tahir', 'age': '25'}, 'std2': {'name': 'abdul', 'age': '17'}}\n"
     ]
    }
   ],
   "source": [
    "#nested\n",
    "students = {\n",
    "    'std1': {\n",
    "        'name': 'tahir',\n",
    "        'age': '25'\n",
    "    },\n",
    "    'std2': {\n",
    "        'name': 'abdul',\n",
    "        'age': '17'\n",
    "    }\n",
    "}\n",
    "\n",
    "print(students)"
   ]
  },
  {
   "cell_type": "code",
   "execution_count": 28,
   "id": "4366ee1d",
   "metadata": {},
   "outputs": [
    {
     "name": "stdout",
     "output_type": "stream",
     "text": [
      "tahir\n",
      "abdul\n"
     ]
    }
   ],
   "source": [
    "#access nested\n",
    "print(students['std1']['name'])\n",
    "print(students['std2']['name'])\n"
   ]
  },
  {
   "cell_type": "code",
   "execution_count": 31,
   "id": "407e0e80",
   "metadata": {},
   "outputs": [
    {
     "name": "stdout",
     "output_type": "stream",
     "text": [
      "std1: {'name': 'tahir', 'age': '25'}\n",
      "name: tahir\n",
      "age: 25\n",
      "std2: {'name': 'abdul', 'age': '17'}\n",
      "name: abdul\n",
      "age: 17\n"
     ]
    }
   ],
   "source": [
    "#iter nested\n",
    "for id,info in students.items():\n",
    "    print(f\"{id}: {info}\")\n",
    "    for key,val in info.items():\n",
    "        print(f\"{key}: {val}\")"
   ]
  },
  {
   "cell_type": "code",
   "execution_count": null,
   "id": "38b4aefa",
   "metadata": {},
   "outputs": [
    {
     "name": "stdout",
     "output_type": "stream",
     "text": [
      "{0: 0, 1: 1, 2: 4, 3: 9, 4: 16}\n",
      "{0, 64, 4, 36, 16}\n"
     ]
    }
   ],
   "source": [
    "#dict comprehension\n",
    "squares = {x:x**2 for x in range(5)}\n",
    "print(squares)\n",
    "\n",
    "#conditional\n",
    "evens = {x:x**2 for x in range(10) if x%2==0}\n",
    "print(evens)"
   ]
  },
  {
   "cell_type": "code",
   "execution_count": 44,
   "id": "9478f99a",
   "metadata": {},
   "outputs": [
    {
     "name": "stdout",
     "output_type": "stream",
     "text": [
      "{1: 2, 2: 3, 3: 4, 4: 6}\n"
     ]
    }
   ],
   "source": [
    "#frequency of elements in a list using dict\n",
    "\n",
    "nums = [1,1,2,2,2,3,3,3,3,4,4,4,4,4,4]\n",
    "\n",
    "dict = {}\n",
    "\n",
    "for num in nums:\n",
    "    if num in dict:\n",
    "        dict[num] += 1\n",
    "    else:\n",
    "        dict[num] = 1\n",
    "\n",
    "print(dict)"
   ]
  },
  {
   "cell_type": "code",
   "execution_count": 45,
   "id": "f7e2a53c",
   "metadata": {},
   "outputs": [
    {
     "name": "stdout",
     "output_type": "stream",
     "text": [
      "{'a': 1, 'b': 2, 'c': 3, 'd': 4}\n"
     ]
    }
   ],
   "source": [
    "#merge dict\n",
    "dict1 = {'a':1, 'b': 2}\n",
    "dict2 = {'c':3, 'd': 4}\n",
    "\n",
    "merge = {**dict1, **dict2}\n",
    "print(merge)\n"
   ]
  },
  {
   "cell_type": "code",
   "execution_count": null,
   "id": "02fb5553",
   "metadata": {},
   "outputs": [],
   "source": []
  }
 ],
 "metadata": {
  "kernelspec": {
   "display_name": "Python 3",
   "language": "python",
   "name": "python3"
  },
  "language_info": {
   "codemirror_mode": {
    "name": "ipython",
    "version": 3
   },
   "file_extension": ".py",
   "mimetype": "text/x-python",
   "name": "python",
   "nbconvert_exporter": "python",
   "pygments_lexer": "ipython3",
   "version": "3.12.0"
  }
 },
 "nbformat": 4,
 "nbformat_minor": 5
}
