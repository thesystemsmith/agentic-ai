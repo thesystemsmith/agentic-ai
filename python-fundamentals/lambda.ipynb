{
 "cells": [
  {
   "cell_type": "code",
   "execution_count": null,
   "id": "455f9675",
   "metadata": {},
   "outputs": [],
   "source": [
    "#function without name\n",
    "lambda arguement: expression"
   ]
  },
  {
   "cell_type": "code",
   "execution_count": 1,
   "id": "b6bd5453",
   "metadata": {},
   "outputs": [],
   "source": [
    "def add(a,b):\n",
    "    return a+b"
   ]
  },
  {
   "cell_type": "code",
   "execution_count": 2,
   "id": "12828e8c",
   "metadata": {},
   "outputs": [
    {
     "data": {
      "text/plain": [
       "5"
      ]
     },
     "execution_count": 2,
     "metadata": {},
     "output_type": "execute_result"
    }
   ],
   "source": [
    "add(2,3)"
   ]
  },
  {
   "cell_type": "code",
   "execution_count": 4,
   "id": "a730cf07",
   "metadata": {},
   "outputs": [
    {
     "data": {
      "text/plain": [
       "function"
      ]
     },
     "execution_count": 4,
     "metadata": {},
     "output_type": "execute_result"
    }
   ],
   "source": [
    "addition = lambda a,b : a+b\n",
    "type(addition)"
   ]
  },
  {
   "cell_type": "code",
   "execution_count": 5,
   "id": "a75356cc",
   "metadata": {},
   "outputs": [
    {
     "data": {
      "text/plain": [
       "11"
      ]
     },
     "execution_count": 5,
     "metadata": {},
     "output_type": "execute_result"
    }
   ],
   "source": [
    "addition(5,6)"
   ]
  },
  {
   "cell_type": "code",
   "execution_count": 6,
   "id": "199d8589",
   "metadata": {},
   "outputs": [
    {
     "name": "stdout",
     "output_type": "stream",
     "text": [
      "Even\n",
      "Odd\n"
     ]
    }
   ],
   "source": [
    "even_or_odd = lambda x: \"Even\" if x % 2 == 0 else \"Odd\"\n",
    "print(even_or_odd(4))\n",
    "print(even_or_odd(7))\n"
   ]
  },
  {
   "cell_type": "code",
   "execution_count": 7,
   "id": "466460fc",
   "metadata": {},
   "outputs": [
    {
     "data": {
      "text/plain": [
       "[1, 4, 9, 16, 25]"
      ]
     },
     "execution_count": 7,
     "metadata": {},
     "output_type": "execute_result"
    }
   ],
   "source": [
    "# map - applies function to all items in a list\n",
    "\n",
    "nums = [1,2,3,4,5]\n",
    "list(map(lambda x: x**2, nums))"
   ]
  },
  {
   "cell_type": "code",
   "execution_count": 8,
   "id": "38098de2",
   "metadata": {},
   "outputs": [
    {
     "name": "stdout",
     "output_type": "stream",
     "text": [
      "[5, 7, 9]\n"
     ]
    }
   ],
   "source": [
    "nums1 = [1,2,3]\n",
    "nums2 = [4,5,6]\n",
    "\n",
    "added_nums = list(map(lambda x,y: x+y, nums1, nums2))\n",
    "print(added_nums)"
   ]
  },
  {
   "cell_type": "code",
   "execution_count": 9,
   "id": "d0fed416",
   "metadata": {},
   "outputs": [
    {
     "name": "stdout",
     "output_type": "stream",
     "text": [
      "[1, 2, 3, 4, 5, 10, 15]\n"
     ]
    }
   ],
   "source": [
    "#string to ints\n",
    "string_numbers = [\"1\", \"2\", \"3\", \"4\", \"5\", \"10\", \"15\"]\n",
    "int_numbers = list(map(int, string_numbers))\n",
    "print(int_numbers)"
   ]
  },
  {
   "cell_type": "code",
   "execution_count": 10,
   "id": "de9d7a66",
   "metadata": {},
   "outputs": [
    {
     "name": "stdout",
     "output_type": "stream",
     "text": [
      "['APPLE', 'BANANA', 'KIWI', 'GRAPE', 'ORANGE']\n"
     ]
    }
   ],
   "source": [
    "fruits = [\"apple\", \"banana\", \"kiwi\", \"grape\", \"orange\"]\n",
    "fruits_upper = list(map(str.upper, fruits))\n",
    "print(fruits_upper)"
   ]
  },
  {
   "cell_type": "code",
   "execution_count": 11,
   "id": "eb00b42f",
   "metadata": {},
   "outputs": [
    {
     "data": {
      "text/plain": [
       "['tahir', 'abdul']"
      ]
     },
     "execution_count": 11,
     "metadata": {},
     "output_type": "execute_result"
    }
   ],
   "source": [
    "def get_name(person):\n",
    "    return person['name']\n",
    "\n",
    "people = [\n",
    "    {'name': 'tahir', 'age': 25},\n",
    "    {'name': 'abdul', 'age': 33}\n",
    "]\n",
    "list(map(get_name, people))"
   ]
  },
  {
   "cell_type": "code",
   "execution_count": 12,
   "id": "59c155fb",
   "metadata": {},
   "outputs": [
    {
     "data": {
      "text/plain": [
       "True"
      ]
     },
     "execution_count": 12,
     "metadata": {},
     "output_type": "execute_result"
    }
   ],
   "source": [
    "# filter - specific value based on condition\n",
    "\n",
    "def even(num):\n",
    "    if num%2==0:\n",
    "        return True\n",
    "    \n",
    "even(24)"
   ]
  },
  {
   "cell_type": "code",
   "execution_count": 14,
   "id": "adebc6cb",
   "metadata": {},
   "outputs": [
    {
     "data": {
      "text/plain": [
       "[2, 4, 6, 8]"
      ]
     },
     "execution_count": 14,
     "metadata": {},
     "output_type": "execute_result"
    }
   ],
   "source": [
    "lst = [1,2,3,4,5,6,7,8,9]\n",
    "list(filter(even, lst))"
   ]
  },
  {
   "cell_type": "code",
   "execution_count": 15,
   "id": "c8285f49",
   "metadata": {},
   "outputs": [
    {
     "name": "stdout",
     "output_type": "stream",
     "text": [
      "[6, 7, 8, 9]\n"
     ]
    }
   ],
   "source": [
    "greater_than_five = list(filter(lambda x: x>5, lst))\n",
    "print(greater_than_five)"
   ]
  },
  {
   "cell_type": "code",
   "execution_count": 16,
   "id": "de7a3713",
   "metadata": {},
   "outputs": [
    {
     "name": "stdout",
     "output_type": "stream",
     "text": [
      "[6, 8]\n"
     ]
    }
   ],
   "source": [
    "#multi conditional filter\n",
    "even_and_greater_than_five = list(filter(lambda x:x>5 and x%2==0, lst))\n",
    "print(even_and_greater_than_five)"
   ]
  },
  {
   "cell_type": "code",
   "execution_count": null,
   "id": "b8280bfe",
   "metadata": {},
   "outputs": [],
   "source": []
  }
 ],
 "metadata": {
  "kernelspec": {
   "display_name": "Python 3",
   "language": "python",
   "name": "python3"
  },
  "language_info": {
   "codemirror_mode": {
    "name": "ipython",
    "version": 3
   },
   "file_extension": ".py",
   "mimetype": "text/x-python",
   "name": "python",
   "nbconvert_exporter": "python",
   "pygments_lexer": "ipython3",
   "version": "3.12.0"
  }
 },
 "nbformat": 4,
 "nbformat_minor": 5
}
