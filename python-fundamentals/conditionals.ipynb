{
 "cells": [
  {
   "cell_type": "code",
   "execution_count": 1,
   "id": "8caf8a98",
   "metadata": {},
   "outputs": [
    {
     "name": "stdout",
     "output_type": "stream",
     "text": [
      "you are allowed to vote\n"
     ]
    }
   ],
   "source": [
    "age = 25\n",
    "\n",
    "if age>=18:\n",
    "    print('you are allowed to vote')"
   ]
  },
  {
   "cell_type": "code",
   "execution_count": 2,
   "id": "dbbe814d",
   "metadata": {},
   "outputs": [
    {
     "name": "stdout",
     "output_type": "stream",
     "text": [
      "you are a minor\n"
     ]
    }
   ],
   "source": [
    "age = 16\n",
    "\n",
    "if age>=18:\n",
    "    print('you are allowed to vote')\n",
    "else:\n",
    "    print('you are a minor')"
   ]
  },
  {
   "cell_type": "code",
   "execution_count": 3,
   "id": "3d9d42a8",
   "metadata": {},
   "outputs": [
    {
     "name": "stdout",
     "output_type": "stream",
     "text": [
      "you are an adult\n"
     ]
    }
   ],
   "source": [
    "age = 20\n",
    "\n",
    "if age<13:\n",
    "    print('you are a child')\n",
    "elif age<18:\n",
    "    print('you are a teenager')\n",
    "else:\n",
    "    print('you are an adult')\n",
    "\n"
   ]
  },
  {
   "cell_type": "markdown",
   "id": "8edd6978",
   "metadata": {},
   "source": [
    "## nested conditions"
   ]
  },
  {
   "cell_type": "code",
   "execution_count": 9,
   "id": "d4289f60",
   "metadata": {},
   "outputs": [
    {
     "name": "stdout",
     "output_type": "stream",
     "text": [
      "positive\n",
      "even\n"
     ]
    }
   ],
   "source": [
    "num = 76\n",
    "\n",
    "if num>=0:\n",
    "    print('positive')\n",
    "    if num%2==0:\n",
    "        print('even')\n",
    "    else:\n",
    "        print('odd')\n",
    "else:\n",
    "    print('negative')\n"
   ]
  },
  {
   "cell_type": "code",
   "execution_count": 14,
   "id": "fa9dfe4c",
   "metadata": {},
   "outputs": [
    {
     "name": "stdout",
     "output_type": "stream",
     "text": [
      "leap\n"
     ]
    }
   ],
   "source": [
    "year = 2000\n",
    "\n",
    "value = ''\n",
    "\n",
    "if year%400 ==0:\n",
    "    value= 'leap'\n",
    "elif year%100==0:\n",
    "    value = 'not leap'\n",
    "elif year%4==0:\n",
    "    value= 'leap'\n",
    "else:\n",
    "    value = 'not leap'\n",
    "\n",
    "print(value)\n",
    "    "
   ]
  },
  {
   "cell_type": "code",
   "execution_count": null,
   "id": "a2faf651",
   "metadata": {},
   "outputs": [],
   "source": []
  }
 ],
 "metadata": {
  "kernelspec": {
   "display_name": "Python 3",
   "language": "python",
   "name": "python3"
  },
  "language_info": {
   "codemirror_mode": {
    "name": "ipython",
    "version": 3
   },
   "file_extension": ".py",
   "mimetype": "text/x-python",
   "name": "python",
   "nbconvert_exporter": "python",
   "pygments_lexer": "ipython3",
   "version": "3.12.0"
  }
 },
 "nbformat": 4,
 "nbformat_minor": 5
}
