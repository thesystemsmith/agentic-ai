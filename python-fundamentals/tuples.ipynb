{
 "cells": [
  {
   "cell_type": "code",
   "execution_count": 4,
   "id": "0b7b6b9a",
   "metadata": {},
   "outputs": [
    {
     "name": "stdout",
     "output_type": "stream",
     "text": [
      "()\n",
      "<class 'tuple'>\n",
      "()\n"
     ]
    }
   ],
   "source": [
    "#create\n",
    "empty_tuple = ()\n",
    "print(empty_tuple)\n",
    "print(type(empty_tuple))\n",
    "\n",
    "tpl = tuple()\n",
    "print(tpl)"
   ]
  },
  {
   "cell_type": "code",
   "execution_count": 15,
   "id": "3e16ca24",
   "metadata": {},
   "outputs": [
    {
     "name": "stdout",
     "output_type": "stream",
     "text": [
      "(1, 2, 3, 4)\n",
      "('hello', 1, 2, True)\n"
     ]
    }
   ],
   "source": [
    "nums = tuple([1,2,3,4])\n",
    "mixed = tuple(['hello', 1, 2, True])\n",
    "print(nums)\n",
    "print(mixed)"
   ]
  },
  {
   "cell_type": "code",
   "execution_count": 12,
   "id": "57844c15",
   "metadata": {},
   "outputs": [
    {
     "name": "stdout",
     "output_type": "stream",
     "text": [
      "3\n",
      "4\n",
      "(2, 3, 4)\n",
      "(4, 3, 2, 1)\n"
     ]
    }
   ],
   "source": [
    "##access\n",
    "print(nums[2])\n",
    "print(nums[-1])\n",
    "\n",
    "##slice\n",
    "print(nums[1:4])\n",
    "print(nums[::-1])\n",
    "\n"
   ]
  },
  {
   "cell_type": "code",
   "execution_count": 16,
   "id": "b74725d6",
   "metadata": {},
   "outputs": [
    {
     "name": "stdout",
     "output_type": "stream",
     "text": [
      "(1, 2, 3, 4, 'hello', 1, 2, True)\n"
     ]
    }
   ],
   "source": [
    "#operations\n",
    "concat = nums + mixed\n",
    "print(concat)"
   ]
  },
  {
   "cell_type": "code",
   "execution_count": 17,
   "id": "89049abb",
   "metadata": {},
   "outputs": [
    {
     "data": {
      "text/plain": [
       "('hello', 1, 2, True, 'hello', 1, 2, True, 'hello', 1, 2, True)"
      ]
     },
     "execution_count": 17,
     "metadata": {},
     "output_type": "execute_result"
    }
   ],
   "source": [
    "mixed * 3"
   ]
  },
  {
   "cell_type": "code",
   "execution_count": null,
   "id": "9e38d9e9",
   "metadata": {},
   "outputs": [
    {
     "name": "stdout",
     "output_type": "stream",
     "text": [
      "[1, 2, 3, 4, 5, 6]\n"
     ]
    },
    {
     "data": {
      "text/plain": [
       "[1, 'krish', 3, 4, 5, 6]"
      ]
     },
     "execution_count": 19,
     "metadata": {},
     "output_type": "execute_result"
    }
   ],
   "source": [
    "#immutable nature\n",
    "\n",
    "lst = [1,2,3,4,5,6]\n",
    "print(lst)\n",
    "\n",
    "lst[1] = 'krish'\n",
    "print(lst)\n",
    "\n"
   ]
  },
  {
   "cell_type": "code",
   "execution_count": 20,
   "id": "b9a8d044",
   "metadata": {},
   "outputs": [
    {
     "ename": "TypeError",
     "evalue": "'tuple' object does not support item assignment",
     "output_type": "error",
     "traceback": [
      "\u001b[31m---------------------------------------------------------------------------\u001b[39m",
      "\u001b[31mTypeError\u001b[39m                                 Traceback (most recent call last)",
      "\u001b[36mCell\u001b[39m\u001b[36m \u001b[39m\u001b[32mIn[20]\u001b[39m\u001b[32m, line 1\u001b[39m\n\u001b[32m----> \u001b[39m\u001b[32m1\u001b[39m \u001b[43mnums\u001b[49m\u001b[43m[\u001b[49m\u001b[32;43m1\u001b[39;49m\u001b[43m]\u001b[49m = \u001b[33m'\u001b[39m\u001b[33mkrish\u001b[39m\u001b[33m'\u001b[39m\n\u001b[32m      2\u001b[39m \u001b[38;5;28mprint\u001b[39m(nums)\n",
      "\u001b[31mTypeError\u001b[39m: 'tuple' object does not support item assignment"
     ]
    }
   ],
   "source": [
    "nums[1] = 'krish'\n",
    "print(nums)"
   ]
  },
  {
   "cell_type": "code",
   "execution_count": 23,
   "id": "a4a780e4",
   "metadata": {},
   "outputs": [
    {
     "name": "stdout",
     "output_type": "stream",
     "text": [
      "1\n",
      "2\n"
     ]
    }
   ],
   "source": [
    "#methods\n",
    "\n",
    "print(nums.count(3))\n",
    "print(nums.index(3))"
   ]
  },
  {
   "cell_type": "code",
   "execution_count": null,
   "id": "a816e903",
   "metadata": {},
   "outputs": [
    {
     "name": "stdout",
     "output_type": "stream",
     "text": [
      "(1, 'hello', 3.14)\n"
     ]
    }
   ],
   "source": [
    "#packing \n",
    "\n",
    "packed = 1,'hello',3.14\n",
    "print(packed)"
   ]
  },
  {
   "cell_type": "code",
   "execution_count": 26,
   "id": "952f744d",
   "metadata": {},
   "outputs": [
    {
     "name": "stdout",
     "output_type": "stream",
     "text": [
      "1\n",
      "hello\n",
      "3.14\n"
     ]
    }
   ],
   "source": [
    "#unpacking\n",
    "\n",
    "a,b,c = packed\n",
    "print(a)\n",
    "print(b)\n",
    "print(c)\n"
   ]
  },
  {
   "cell_type": "code",
   "execution_count": 27,
   "id": "8ddd1bd3",
   "metadata": {},
   "outputs": [
    {
     "name": "stdout",
     "output_type": "stream",
     "text": [
      "1\n",
      "[2, 3, 4, 5]\n",
      "6\n"
     ]
    }
   ],
   "source": [
    "#unpacking with *\n",
    "nums= (1,2,3,4,5,6)\n",
    "\n",
    "first, *middle, last = nums\n",
    "print(first)\n",
    "print(middle)\n",
    "print(last)\n"
   ]
  },
  {
   "cell_type": "code",
   "execution_count": 34,
   "id": "b596b38b",
   "metadata": {},
   "outputs": [
    {
     "name": "stdout",
     "output_type": "stream",
     "text": [
      "[5, 6]\n",
      "(5, 6)\n"
     ]
    }
   ],
   "source": [
    "##nested tuple\n",
    "nested_list = [1, 2, [3, 4], [5, 6, [7, 8]], 9]\n",
    "nested_tuple = (1, 2, (3, 4), (5, 6, (7, 8)), 9)\n",
    "\n",
    "print(nested_list[3][0:2])\n",
    "print(nested_tuple[3][0:2])\n",
    "\n",
    "\n",
    "\n"
   ]
  },
  {
   "cell_type": "code",
   "execution_count": 38,
   "id": "85903106",
   "metadata": {},
   "outputs": [
    {
     "name": "stdout",
     "output_type": "stream",
     "text": [
      "1 \n",
      "2 3 \n",
      "4 5 6 \n",
      "7 (8, 9) \n"
     ]
    }
   ],
   "source": [
    "##iterate\n",
    "\n",
    "nested_tuple = (1, (2, 3), (4, 5, 6), (7, (8, 9)))\n",
    "\n",
    "for sub in nested_tuple:\n",
    "    if isinstance(sub, tuple):  # Check if the element is a tuple\n",
    "        for item in sub:\n",
    "            print(item, end=\" \")\n",
    "    else:\n",
    "        print(sub, end=\" \")\n",
    "    print()\n"
   ]
  },
  {
   "cell_type": "code",
   "execution_count": null,
   "id": "f34f54ce",
   "metadata": {},
   "outputs": [],
   "source": []
  }
 ],
 "metadata": {
  "kernelspec": {
   "display_name": "Python 3",
   "language": "python",
   "name": "python3"
  },
  "language_info": {
   "codemirror_mode": {
    "name": "ipython",
    "version": 3
   },
   "file_extension": ".py",
   "mimetype": "text/x-python",
   "name": "python",
   "nbconvert_exporter": "python",
   "pygments_lexer": "ipython3",
   "version": "3.12.0"
  }
 },
 "nbformat": 4,
 "nbformat_minor": 5
}
