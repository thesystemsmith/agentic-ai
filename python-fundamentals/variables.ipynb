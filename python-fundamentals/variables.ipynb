{
 "cells": [
  {
   "cell_type": "code",
   "execution_count": null,
   "id": "236ce4f3",
   "metadata": {},
   "outputs": [],
   "source": [
    "age = 25\n",
    "name = 'tahir'\n",
    "height = 5.8\n",
    "is_man = True\n",
    "\n",
    "# different data types"
   ]
  },
  {
   "cell_type": "code",
   "execution_count": 3,
   "id": "896575ea",
   "metadata": {},
   "outputs": [],
   "source": [
    "#convention\n",
    "\n",
    "first_name = 'abdul'\n",
    "last_name = 'rasheed'"
   ]
  },
  {
   "cell_type": "code",
   "execution_count": 8,
   "id": "4000fef3",
   "metadata": {},
   "outputs": [
    {
     "name": "stdout",
     "output_type": "stream",
     "text": [
      "<class 'int'>\n",
      "25\n",
      "<class 'str'>\n"
     ]
    }
   ],
   "source": [
    "#type conversion\n",
    "#only numerical values\n",
    "print(type(age))\n",
    "\n",
    "age_str = str(age)\n",
    "print(age_str)\n",
    "print(type(age_str))"
   ]
  },
  {
   "cell_type": "code",
   "execution_count": 9,
   "id": "024483c2",
   "metadata": {},
   "outputs": [
    {
     "name": "stdout",
     "output_type": "stream",
     "text": [
      "<class 'float'>\n",
      "5\n",
      "<class 'int'>\n"
     ]
    }
   ],
   "source": [
    "print(type(height))\n",
    "\n",
    "height_int = int(height)\n",
    "print(height_int)\n",
    "print(type(height_int))"
   ]
  },
  {
   "cell_type": "code",
   "execution_count": 10,
   "id": "80704013",
   "metadata": {},
   "outputs": [
    {
     "name": "stdout",
     "output_type": "stream",
     "text": [
      "10 <class 'int'>\n",
      "hello <class 'str'>\n",
      "3.14 <class 'float'>\n"
     ]
    }
   ],
   "source": [
    "# dynamic typing\n",
    "var = 10\n",
    "print(var, type(var))\n",
    "\n",
    "var = 'hello'\n",
    "print(var, type(var))\n",
    "\n",
    "var = 3.14\n",
    "print(var, type(var))"
   ]
  },
  {
   "cell_type": "code",
   "execution_count": null,
   "id": "ffbca10b",
   "metadata": {},
   "outputs": [
    {
     "name": "stdout",
     "output_type": "stream",
     "text": [
      "<class 'int'>\n"
     ]
    }
   ],
   "source": [
    "#input\n",
    "age = int(input('what is your age?')) #type cast\n",
    "print(type(age))"
   ]
  },
  {
   "cell_type": "code",
   "execution_count": 19,
   "id": "1fc7de8f",
   "metadata": {},
   "outputs": [
    {
     "name": "stdout",
     "output_type": "stream",
     "text": [
      "sum 4.0\n",
      "diff 0.0\n",
      "product 4.0\n",
      "quotient 1.0\n",
      "exponent 4.0\n"
     ]
    }
   ],
   "source": [
    "#calculator\n",
    "\n",
    "num1 = float(input('Enter num1:'))\n",
    "num2 = float(input('Enter num2:'))\n",
    "\n",
    "sum = num1 + num2\n",
    "diff = num1 - num2\n",
    "product = num1 * num2\n",
    "quotient = num1 / num2\n",
    "exponent = num1 ** num2\n",
    "\n",
    "print('sum', sum)\n",
    "print('diff', diff)\n",
    "print('product', product)\n",
    "print('quotient', quotient)\n",
    "print('exponent', exponent)\n"
   ]
  },
  {
   "cell_type": "code",
   "execution_count": 16,
   "id": "db9d5c4a",
   "metadata": {},
   "outputs": [
    {
     "name": "stdout",
     "output_type": "stream",
     "text": [
      "hello5\n"
     ]
    }
   ],
   "source": [
    "result = 'hello' + str(5)\n",
    "print(result)"
   ]
  },
  {
   "cell_type": "code",
   "execution_count": null,
   "id": "117df4df",
   "metadata": {},
   "outputs": [],
   "source": []
  }
 ],
 "metadata": {
  "kernelspec": {
   "display_name": "Python 3",
   "language": "python",
   "name": "python3"
  },
  "language_info": {
   "codemirror_mode": {
    "name": "ipython",
    "version": 3
   },
   "file_extension": ".py",
   "mimetype": "text/x-python",
   "name": "python",
   "nbconvert_exporter": "python",
   "pygments_lexer": "ipython3",
   "version": "3.12.0"
  }
 },
 "nbformat": 4,
 "nbformat_minor": 5
}
