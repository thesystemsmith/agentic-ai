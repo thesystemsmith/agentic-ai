{
 "cells": [
  {
   "cell_type": "code",
   "execution_count": 1,
   "id": "f26541f9",
   "metadata": {},
   "outputs": [],
   "source": [
    "import logging\n",
    "\n",
    "#configure\n",
    "logging.basicConfig(\n",
    "    filename='app.log', #logs in a file\n",
    "    filemode='w',\n",
    "    level= logging.DEBUG,\n",
    "    format='%(asctime)s - %(name)s - %(levelname)s - %(message)s' #to format the log msgs\n",
    "    )\n",
    "\n",
    "#log messages\n",
    "logging.debug('this is a debug message')\n",
    "logging.info('this is info msg')\n",
    "logging.warning('this is a warning msg')\n",
    "logging.error('this is an error msg')\n",
    "logging.critical('this is a critical msg')"
   ]
  },
  {
   "cell_type": "code",
   "execution_count": null,
   "id": "e33f4dee",
   "metadata": {},
   "outputs": [],
   "source": []
  }
 ],
 "metadata": {
  "kernelspec": {
   "display_name": "venv",
   "language": "python",
   "name": "python3"
  },
  "language_info": {
   "codemirror_mode": {
    "name": "ipython",
    "version": 3
   },
   "file_extension": ".py",
   "mimetype": "text/x-python",
   "name": "python",
   "nbconvert_exporter": "python",
   "pygments_lexer": "ipython3",
   "version": "3.9.6"
  }
 },
 "nbformat": 4,
 "nbformat_minor": 5
}
