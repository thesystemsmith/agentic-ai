{
 "cells": [
  {
   "cell_type": "markdown",
   "id": "32c0d2ff",
   "metadata": {},
   "source": [
    "Encapsulation:\n",
    "Hiding internal details and restricting direct access to some data.\n"
   ]
  },
  {
   "cell_type": "code",
   "execution_count": 3,
   "id": "0c846fdf",
   "metadata": {},
   "outputs": [
    {
     "name": "stdout",
     "output_type": "stream",
     "text": [
      "['__class__', '__delattr__', '__dict__', '__dir__', '__doc__', '__eq__', '__format__', '__ge__', '__getattribute__', '__gt__', '__hash__', '__init__', '__init_subclass__', '__le__', '__lt__', '__module__', '__ne__', '__new__', '__reduce__', '__reduce_ex__', '__repr__', '__setattr__', '__sizeof__', '__str__', '__subclasshook__', '__weakref__', 'age', 'name']\n",
      "tahir\n"
     ]
    }
   ],
   "source": [
    "\n",
    "class Person:\n",
    "    def __init__(self, name, age):\n",
    "        self.name = name #public\n",
    "        self.age = age\n",
    "        \n",
    "person = Person('tahir', 25)\n",
    "print(dir(person))\n",
    "print(person.name)"
   ]
  },
  {
   "cell_type": "code",
   "execution_count": null,
   "id": "2ece1ea8",
   "metadata": {},
   "outputs": [
    {
     "name": "stdout",
     "output_type": "stream",
     "text": [
      "['_Person__age', '_Person__name', '__class__', '__delattr__', '__dict__', '__dir__', '__doc__', '__eq__', '__format__', '__ge__', '__getattribute__', '__gt__', '__hash__', '__init__', '__init_subclass__', '__le__', '__lt__', '__module__', '__ne__', '__new__', '__reduce__', '__reduce_ex__', '__repr__', '__setattr__', '__sizeof__', '__str__', '__subclasshook__', '__weakref__', '_gender']\n",
      "male\n"
     ]
    }
   ],
   "source": [
    "#private public protected\n",
    "\n",
    "class Person:\n",
    "    def __init__(self, name, age, gender):\n",
    "        self.__name = name #private\n",
    "        self.__age = age\n",
    "        self._gender = gender #protected\n",
    "        \n",
    "class Employee(Person):\n",
    "    def __init__(self, name, age, gender):\n",
    "        super().__init__(name, age, gender)\n",
    "\n",
    "person = Person('tahir', 25, 'male')\n",
    "print(dir(person))\n",
    "# print(person.name) #error\n",
    "\n",
    "employee = Employee('tahir', 25, 'male')\n",
    "print(employee._gender)\n"
   ]
  },
  {
   "cell_type": "code",
   "execution_count": null,
   "id": "04305b3b",
   "metadata": {},
   "outputs": [
    {
     "name": "stdout",
     "output_type": "stream",
     "text": [
      "tahir\n",
      "25\n"
     ]
    }
   ],
   "source": [
    "#getter and setter\n",
    "\n",
    "class Person:\n",
    "    def __init__(self, name, age):\n",
    "        self.__name = name #private\n",
    "        self.__age = age\n",
    "    \n",
    "    def get_name(self):\n",
    "        return self.__name\n",
    "    \n",
    "    def set_name(self, name):\n",
    "        self.__name = name\n",
    "        \n",
    "    def get_age(self):\n",
    "        return self.__age\n",
    "\n",
    "    def set_age(self, age):\n",
    "        if age>0:\n",
    "            self.__age = age\n",
    "        else:\n",
    "            return 'age cant be negative'\n",
    "\n",
    "        \n",
    "person = Person('tahir', 25)\n",
    "print(person.get_name())\n",
    "print(person.get_age())\n",
    "\n",
    "\n"
   ]
  },
  {
   "cell_type": "code",
   "execution_count": null,
   "id": "bbe26e75",
   "metadata": {},
   "outputs": [],
   "source": []
  }
 ],
 "metadata": {
  "kernelspec": {
   "display_name": "venv",
   "language": "python",
   "name": "python3"
  },
  "language_info": {
   "codemirror_mode": {
    "name": "ipython",
    "version": 3
   },
   "file_extension": ".py",
   "mimetype": "text/x-python",
   "name": "python",
   "nbconvert_exporter": "python",
   "pygments_lexer": "ipython3",
   "version": "3.9.6"
  }
 },
 "nbformat": 4,
 "nbformat_minor": 5
}
