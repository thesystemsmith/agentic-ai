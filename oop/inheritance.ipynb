{
 "cells": [
  {
   "cell_type": "markdown",
   "id": "1fabcbd2",
   "metadata": {},
   "source": [
    "Inheritance:\n",
    "A class can inherit attributes and methods from another class."
   ]
  },
  {
   "cell_type": "code",
   "execution_count": 1,
   "id": "8e000672",
   "metadata": {},
   "outputs": [
    {
     "name": "stdout",
     "output_type": "stream",
     "text": [
      "the person will drive the petrol car\n"
     ]
    }
   ],
   "source": [
    "class Car:\n",
    "    def __init__(self, windows, doors, enginetype):\n",
    "        self.windows = windows\n",
    "        self.doors = doors\n",
    "        self.enginetype = enginetype\n",
    "\n",
    "    def drive(self):\n",
    "        print(f'the person will drive the {self.enginetype} car')\n",
    "\n",
    "car1 = Car(4, 5, 'petrol')\n",
    "car1.drive()"
   ]
  },
  {
   "cell_type": "code",
   "execution_count": null,
   "id": "7229e25a",
   "metadata": {},
   "outputs": [
    {
     "name": "stdout",
     "output_type": "stream",
     "text": [
      "the person will drive the electric car\n",
      "tesla supports self driving : True\n"
     ]
    }
   ],
   "source": [
    "#single inheritance\n",
    "class Tesla(Car):\n",
    "    def __init__(self, windows, doors, enginetype, is_selfdriving):\n",
    "        super().__init__(windows, doors, enginetype)\n",
    "        self.is_selfdriving = is_selfdriving\n",
    "        \n",
    "    def selfdriving(self):\n",
    "        print(f'tesla supports self driving : {self.is_selfdriving}')\n",
    "        \n",
    "tesla1 = Tesla(4, 5, 'electric', True)\n",
    "tesla1.drive()\n",
    "tesla1.selfdriving()"
   ]
  },
  {
   "cell_type": "code",
   "execution_count": 10,
   "id": "e0895331",
   "metadata": {},
   "outputs": [
    {
     "name": "stdout",
     "output_type": "stream",
     "text": [
      "rocky says woof\n",
      "owner: tahir\n"
     ]
    }
   ],
   "source": [
    "#multiple inheritance\n",
    "#base class 1\n",
    "class Animal:\n",
    "    def __init__(self, name):\n",
    "        self.name = name\n",
    "        \n",
    "    def speak(self):\n",
    "        print('subclass must implement this method')\n",
    "        \n",
    "#base class 2\n",
    "class Pet:\n",
    "    def __init__(self, owner):\n",
    "        self.owner = owner\n",
    "        \n",
    "#derived class\n",
    "class Dog(Animal, Pet):\n",
    "    def __init__(self, name, owner):\n",
    "        #instead of super\n",
    "        Animal.__init__(self, name)\n",
    "        Pet.__init__(self, owner) \n",
    "        \n",
    "    def speak(self):\n",
    "        return (f'{self.name} says woof')\n",
    "        \n",
    "dog = Dog('rocky', 'tahir')\n",
    "print(dog.speak())\n",
    "print(f'owner: {dog.owner}')"
   ]
  },
  {
   "cell_type": "code",
   "execution_count": null,
   "id": "d86f91a7",
   "metadata": {},
   "outputs": [],
   "source": []
  }
 ],
 "metadata": {
  "kernelspec": {
   "display_name": "venv",
   "language": "python",
   "name": "python3"
  },
  "language_info": {
   "codemirror_mode": {
    "name": "ipython",
    "version": 3
   },
   "file_extension": ".py",
   "mimetype": "text/x-python",
   "name": "python",
   "nbconvert_exporter": "python",
   "pygments_lexer": "ipython3",
   "version": "3.9.6"
  }
 },
 "nbformat": 4,
 "nbformat_minor": 5
}
