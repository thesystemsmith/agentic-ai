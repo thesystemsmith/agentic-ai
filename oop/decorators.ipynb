{
 "cells": [
  {
   "cell_type": "code",
   "execution_count": null,
   "id": "f48eea3a",
   "metadata": {},
   "outputs": [
    {
     "data": {
      "text/plain": [
       "'you are welcome'"
      ]
     },
     "execution_count": 4,
     "metadata": {},
     "output_type": "execute_result"
    }
   ],
   "source": [
    "#function copy\n",
    "def welcome():\n",
    "    return 'you are welcome'\n",
    "\n",
    "wel = welcome\n",
    "wel()\n",
    "del welcome\n",
    "wel() #still execute"
   ]
  },
  {
   "cell_type": "code",
   "execution_count": 9,
   "id": "446f2672",
   "metadata": {},
   "outputs": [
    {
     "name": "stdout",
     "output_type": "stream",
     "text": [
      "welcome to the ai agents\n",
      "please learn these concepts\n",
      "this is accessed from main method: welcome\n"
     ]
    }
   ],
   "source": [
    "#closures\n",
    "\n",
    "def main_welcome():\n",
    "    msg = 'welcome'\n",
    "    \n",
    "    def sub_welcome():\n",
    "        print('welcome to the ai agents')\n",
    "        print('please learn these concepts')\n",
    "        print('this is accessed from main method:', msg)\n",
    "        \n",
    "    return sub_welcome()\n",
    "\n",
    "main_welcome()"
   ]
  },
  {
   "cell_type": "code",
   "execution_count": null,
   "id": "2d73f8d2",
   "metadata": {},
   "outputs": [
    {
     "name": "stdout",
     "output_type": "stream",
     "text": [
      "welcome to the ai agents\n",
      "please learn these concepts\n",
      "closure function called\n"
     ]
    }
   ],
   "source": [
    "def main_welcome(func):\n",
    "    msg = 'welcome'\n",
    "    \n",
    "    def sub_welcome():\n",
    "        print('welcome to the ai agents')\n",
    "        print('please learn these concepts')\n",
    "        \n",
    "        func('closure function called') #impl changes based on function type and task\n",
    "        \n",
    "    return sub_welcome()\n",
    "\n",
    "main_welcome(print)\n"
   ]
  },
  {
   "cell_type": "code",
   "execution_count": null,
   "id": "6d2ecb21",
   "metadata": {},
   "outputs": [
    {
     "name": "stdout",
     "output_type": "stream",
     "text": [
      "welcome to the ai agents\n",
      "please learn these concepts\n",
      "this is an advanced python course\n"
     ]
    }
   ],
   "source": [
    "def main_welcome(func):\n",
    "    msg = 'welcome'\n",
    "    \n",
    "    def sub_welcome():\n",
    "        print('welcome to the ai agents')\n",
    "        print('please learn these concepts')\n",
    "        \n",
    "        func()\n",
    "        \n",
    "    return sub_welcome()\n",
    "\n",
    "def course_intro():\n",
    "    print('this is an advanced python course')\n",
    "    \n",
    "main_welcome(course_intro)\n"
   ]
  },
  {
   "cell_type": "code",
   "execution_count": null,
   "id": "2057fb7b",
   "metadata": {},
   "outputs": [
    {
     "name": "stdout",
     "output_type": "stream",
     "text": [
      "welcome to the ai agents\n",
      "please learn these concepts\n",
      "this is an advanced python course\n"
     ]
    }
   ],
   "source": [
    "@main_welcome #decorator\n",
    "def course_intro():\n",
    "    print('this is an advanced python course')"
   ]
  },
  {
   "cell_type": "code",
   "execution_count": 18,
   "id": "9f31328b",
   "metadata": {},
   "outputs": [
    {
     "name": "stdout",
     "output_type": "stream",
     "text": [
      "Hello!\n",
      "How are you?\n"
     ]
    }
   ],
   "source": [
    "#normal func\n",
    "# def say_hello():\n",
    "#     print(\"How are you?\")\n",
    "\n",
    "#decorator function\n",
    "def greet_decorator(func):\n",
    "    def wrapper():\n",
    "        print(\"Hello!\")\n",
    "        func()\n",
    "    return wrapper\n",
    "\n",
    "#use decorator\n",
    "@greet_decorator\n",
    "def say_hello():\n",
    "    print(\"How are you?\")\n",
    "\n",
    "say_hello()\n"
   ]
  },
  {
   "cell_type": "code",
   "execution_count": null,
   "id": "9f9c3446",
   "metadata": {},
   "outputs": [],
   "source": []
  }
 ],
 "metadata": {
  "kernelspec": {
   "display_name": "venv",
   "language": "python",
   "name": "python3"
  },
  "language_info": {
   "codemirror_mode": {
    "name": "ipython",
    "version": 3
   },
   "file_extension": ".py",
   "mimetype": "text/x-python",
   "name": "python",
   "nbconvert_exporter": "python",
   "pygments_lexer": "ipython3",
   "version": "3.9.6"
  }
 },
 "nbformat": 4,
 "nbformat_minor": 5
}
