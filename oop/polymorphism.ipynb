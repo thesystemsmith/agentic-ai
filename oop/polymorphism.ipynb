{
 "cells": [
  {
   "cell_type": "markdown",
   "id": "2b1df601",
   "metadata": {},
   "source": [
    "Polymorphism:\n",
    "Different classes can have methods with the same name but behave differently"
   ]
  },
  {
   "cell_type": "code",
   "execution_count": null,
   "id": "f50416b0",
   "metadata": {},
   "outputs": [
    {
     "name": "stdout",
     "output_type": "stream",
     "text": [
      "woof\n",
      "meow\n",
      "the area is 20\n",
      "the area is 28.259999999999998\n"
     ]
    }
   ],
   "source": [
    "# Method Overriding:\n",
    "# A subclass provides its own version of a method already defined in its superclass. It replaces the parent method.\n",
    "# Method Overloading:\n",
    "# Having multiple methods with the same name but different parameters in the same class.\n",
    "\n",
    "class Animal: \n",
    "    def speak(self):\n",
    "        return 'sound of the animal'\n",
    "    \n",
    "class Dog(Animal):\n",
    "    def speak(self):\n",
    "        return 'woof'\n",
    "    \n",
    "class Cat(Animal):\n",
    "    def speak(self):\n",
    "        return 'meow'\n",
    "    \n",
    "def animal_speak(animal):\n",
    "    print(animal.speak())\n",
    "    \n",
    "dog = Dog()\n",
    "cat = Cat()\n",
    "\n",
    "# print(dog.speak())\n",
    "# print(cat.speak())\n",
    "\n",
    "animal_speak(dog)\n",
    "animal_speak(cat)\n",
    "\n",
    "\n",
    "class Shape:\n",
    "    def area(self):\n",
    "        return 'the area of the figure'\n",
    "    \n",
    "class Rectangle(Shape):\n",
    "    def __init__(self, width, height):\n",
    "        self.width = width\n",
    "        self.height = height\n",
    "        \n",
    "    def area(self): #overriding\n",
    "        return self.width * self.height\n",
    "    \n",
    "class Circle(Shape):\n",
    "    def __init__(self, radius):\n",
    "        self.radius = radius\n",
    "    \n",
    "    def area(self):\n",
    "        return 3.14* self.radius * self.radius\n",
    "\n",
    "def print_area(shape):\n",
    "    print(f'the area is {shape.area()}')\n",
    "    \n",
    "\n",
    "rec = Rectangle(4,5)\n",
    "cir = Circle(3)\n",
    "\n",
    "print_area(rec)\n",
    "print_area(cir)\n",
    "\n",
    "        \n",
    "        \n",
    "        \n",
    "    "
   ]
  },
  {
   "cell_type": "code",
   "execution_count": null,
   "id": "b0abc608",
   "metadata": {},
   "outputs": [
    {
     "data": {
      "text/plain": [
       "'motorcycle engine started'"
      ]
     },
     "execution_count": 11,
     "metadata": {},
     "output_type": "execute_result"
    }
   ],
   "source": [
    "# abstract base class\n",
    "\n",
    "from abc import ABC, abstractmethod\n",
    "\n",
    "#define abs class\n",
    "class Vehicle(ABC):\n",
    "    @abstractmethod\n",
    "    def start_engine(self):\n",
    "        pass\n",
    "    \n",
    "class Car(Vehicle):\n",
    "    def start_engine(self):\n",
    "        return 'car engine started'\n",
    "    \n",
    "class Motorcycle(Vehicle):\n",
    "    def start_engine(self):\n",
    "        return 'motorcycle engine started'\n",
    "    \n",
    "def start_vehicle(vehicle):\n",
    "    return f'{vehicle.start_engine()}'\n",
    "\n",
    "car = Car()\n",
    "bike = Motorcycle()\n",
    "\n",
    "# start_vehicle(car)\n",
    "start_vehicle(bike)\n",
    "\n"
   ]
  },
  {
   "cell_type": "code",
   "execution_count": null,
   "id": "f9b73da9",
   "metadata": {},
   "outputs": [],
   "source": []
  }
 ],
 "metadata": {
  "kernelspec": {
   "display_name": "venv",
   "language": "python",
   "name": "python3"
  },
  "language_info": {
   "codemirror_mode": {
    "name": "ipython",
    "version": 3
   },
   "file_extension": ".py",
   "mimetype": "text/x-python",
   "name": "python",
   "nbconvert_exporter": "python",
   "pygments_lexer": "ipython3",
   "version": "3.9.6"
  }
 },
 "nbformat": 4,
 "nbformat_minor": 5
}
