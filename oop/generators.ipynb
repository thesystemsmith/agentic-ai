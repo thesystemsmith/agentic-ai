{
 "cells": [
  {
   "cell_type": "code",
   "execution_count": 6,
   "id": "2775ebaf",
   "metadata": {},
   "outputs": [
    {
     "data": {
      "text/plain": [
       "<generator object square at 0x107515b30>"
      ]
     },
     "execution_count": 6,
     "metadata": {},
     "output_type": "execute_result"
    }
   ],
   "source": [
    "def square(n):\n",
    "    for i in range(n):\n",
    "        yield i**2\n",
    "        \n",
    "square(5)\n",
    "        \n"
   ]
  },
  {
   "cell_type": "code",
   "execution_count": 7,
   "id": "4082c9bd",
   "metadata": {},
   "outputs": [
    {
     "name": "stdout",
     "output_type": "stream",
     "text": [
      "0\n",
      "1\n",
      "4\n",
      "9\n",
      "16\n",
      "25\n"
     ]
    }
   ],
   "source": [
    "for i in square(6):\n",
    "    print(i)"
   ]
  },
  {
   "cell_type": "code",
   "execution_count": 10,
   "id": "5b943b34",
   "metadata": {},
   "outputs": [
    {
     "name": "stdout",
     "output_type": "stream",
     "text": [
      "\n",
      "CONTENTS\n",
      "\n",
      "I.\tA Scandal in Bohemia\n",
      "II.\tThe Red-Headed League\n",
      "III.\tA Case of Identity\n",
      "IV.\tThe Boscombe Valley Mystery\n",
      "V.\tThe Five Orange Pips\n",
      "VI.\tThe Man with the Twisted Lip\n",
      "VII.\tThe Adventure of the Blue Carbuncle\n",
      "VIII.\tThe Adventure of the Speckled Band\n",
      "IX.\tThe Adventure of the Engineer's Thumb\n",
      "X.\tThe Adventure of the Noble Bachelor\n",
      "XI.\tThe Adventure of the Beryl Coronet\n",
      "XII.\tThe Adventure of the Copper Beeches\n",
      "\n",
      "\n",
      "ADVENTURE  I.  A SCANDAL IN BOHEMIA\n",
      "\n",
      "I.\n"
     ]
    }
   ],
   "source": [
    "#reading large files\n",
    "\n",
    "def read_large_file(filepath):\n",
    "    with open(filepath, 'r') as file:\n",
    "        for line in file:\n",
    "            yield line\n",
    "            \n",
    "filepath = 'large_file.txt'\n",
    "\n",
    "for line in read_large_file(filepath):\n",
    "    print(line.strip())"
   ]
  },
  {
   "cell_type": "code",
   "execution_count": null,
   "id": "e24ac0da",
   "metadata": {},
   "outputs": [],
   "source": []
  }
 ],
 "metadata": {
  "kernelspec": {
   "display_name": "venv",
   "language": "python",
   "name": "python3"
  },
  "language_info": {
   "codemirror_mode": {
    "name": "ipython",
    "version": 3
   },
   "file_extension": ".py",
   "mimetype": "text/x-python",
   "name": "python",
   "nbconvert_exporter": "python",
   "pygments_lexer": "ipython3",
   "version": "3.9.6"
  }
 },
 "nbformat": 4,
 "nbformat_minor": 5
}
