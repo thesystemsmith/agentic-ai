{
 "cells": [
  {
   "cell_type": "markdown",
   "id": "2f18cb64",
   "metadata": {},
   "source": [
    "Class = blueprint; Object = instance of that blueprint.\n"
   ]
  },
  {
   "cell_type": "code",
   "execution_count": 3,
   "id": "7b0201b4",
   "metadata": {},
   "outputs": [
    {
     "name": "stdout",
     "output_type": "stream",
     "text": [
      "<class '__main__.Car'>\n",
      "<__main__.Car object at 0x1071072e0>\n"
     ]
    }
   ],
   "source": [
    "#class is a blueprint for creating objects\n",
    "class Car:\n",
    "    pass\n",
    "\n",
    "audi = Car()\n",
    "bmw = Car()\n",
    "\n",
    "print(type(audi))\n",
    "print(audi)"
   ]
  },
  {
   "cell_type": "code",
   "execution_count": null,
   "id": "6a3e69ce",
   "metadata": {},
   "outputs": [
    {
     "name": "stdout",
     "output_type": "stream",
     "text": [
      "4\n"
     ]
    }
   ],
   "source": [
    "\n",
    "audi.windows = 4 #not the best way to assign attributes\n",
    "print(audi.windows)"
   ]
  },
  {
   "cell_type": "code",
   "execution_count": null,
   "id": "7256d5a6",
   "metadata": {},
   "outputs": [
    {
     "name": "stdout",
     "output_type": "stream",
     "text": [
      "<__main__.Dog object at 0x10713ff40>\n",
      "dogesh\n",
      "2\n"
     ]
    }
   ],
   "source": [
    "#instance variable and methods\n",
    "\n",
    "class Dog:\n",
    "    ##constructor\n",
    "    def __init__(self, name, age):\n",
    "        self.name = name #instance variables\n",
    "        self.age = age\n",
    "\n",
    "#create object\n",
    "dog1 = Dog('dogesh', 2)\n",
    "print(dog1)\n",
    "print(dog1.name)\n",
    "print(dog1.age)\n",
    "\n"
   ]
  },
  {
   "cell_type": "code",
   "execution_count": 7,
   "id": "4b6ce24d",
   "metadata": {},
   "outputs": [
    {
     "name": "stdout",
     "output_type": "stream",
     "text": [
      "<__main__.Dog object at 0x107107d30>\n",
      "uso\n",
      "3\n"
     ]
    }
   ],
   "source": [
    "dog2 = Dog('uso', 3)\n",
    "print(dog2)\n",
    "print(dog2.name)\n",
    "print(dog2.age)"
   ]
  },
  {
   "cell_type": "code",
   "execution_count": 9,
   "id": "b6237e7b",
   "metadata": {},
   "outputs": [
    {
     "name": "stdout",
     "output_type": "stream",
     "text": [
      "buddy says woof\n",
      "lucy says woof\n"
     ]
    }
   ],
   "source": [
    "class Dog:\n",
    "    def __init__(self, name, age):\n",
    "        self.name = name #instance variables\n",
    "        self.age = age\n",
    "    \n",
    "    def bark(self):\n",
    "        print(f'{self.name} says woof')\n",
    "\n",
    "dog1 = Dog('buddy', 3)\n",
    "dog1.bark()\n",
    "dog2 = Dog('lucy', 3)\n",
    "dog2.bark()\n"
   ]
  },
  {
   "cell_type": "code",
   "execution_count": 10,
   "id": "8bc191c0",
   "metadata": {},
   "outputs": [],
   "source": [
    "#modelling a bank account\n",
    "\n",
    "class BankAccount:\n",
    "    def __init__(self, owner, balance = 0):\n",
    "        self.owner = owner\n",
    "        self.balance = balance\n",
    "\n",
    "    def deposit(self, amount):\n",
    "        self.balance += amount\n",
    "        print(f'{amount} is deposited. new balance: {self.balance}')\n",
    "\n",
    "    def withdraw(self, amount):\n",
    "        if amount > self.balance:\n",
    "            print('insufficient funds')\n",
    "        else:\n",
    "            self.balance -= amount\n",
    "            print(f'{amount} is withdrawn. new balance: {self.balance}')\n",
    "        \n",
    "    def get_balance(self):\n",
    "        return self.balance\n",
    "    "
   ]
  },
  {
   "cell_type": "code",
   "execution_count": 14,
   "id": "6bd47c9f",
   "metadata": {},
   "outputs": [
    {
     "name": "stdout",
     "output_type": "stream",
     "text": [
      "10000\n",
      "200 is deposited. new balance: 10200\n",
      "68 is withdrawn. new balance: 10132\n"
     ]
    },
    {
     "data": {
      "text/plain": [
       "10132"
      ]
     },
     "execution_count": 14,
     "metadata": {},
     "output_type": "execute_result"
    }
   ],
   "source": [
    "account = BankAccount('tahir', 10000)\n",
    "print(account.balance)\n",
    "\n",
    "account.deposit(200)\n",
    "account.withdraw(68)\n",
    "account.get_balance()"
   ]
  },
  {
   "cell_type": "code",
   "execution_count": null,
   "id": "a0a6202e",
   "metadata": {},
   "outputs": [],
   "source": []
  }
 ],
 "metadata": {
  "kernelspec": {
   "display_name": "venv",
   "language": "python",
   "name": "python3"
  },
  "language_info": {
   "codemirror_mode": {
    "name": "ipython",
    "version": 3
   },
   "file_extension": ".py",
   "mimetype": "text/x-python",
   "name": "python",
   "nbconvert_exporter": "python",
   "pygments_lexer": "ipython3",
   "version": "3.9.6"
  }
 },
 "nbformat": 4,
 "nbformat_minor": 5
}
