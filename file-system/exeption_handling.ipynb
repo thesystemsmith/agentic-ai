{
 "cells": [
  {
   "cell_type": "code",
   "execution_count": null,
   "id": "b4f0425c",
   "metadata": {},
   "outputs": [
    {
     "ename": "NameError",
     "evalue": "name 'b' is not defined",
     "output_type": "error",
     "traceback": [
      "\u001b[0;31m---------------------------------------------------------------------------\u001b[0m",
      "\u001b[0;31mNameError\u001b[0m                                 Traceback (most recent call last)",
      "Cell \u001b[0;32mIn[1], line 1\u001b[0m\n\u001b[0;32m----> 1\u001b[0m a\u001b[38;5;241m=\u001b[39m\u001b[43mb\u001b[49m\n",
      "\u001b[0;31mNameError\u001b[0m: name 'b' is not defined"
     ]
    }
   ],
   "source": [
    "a=b\n",
    "#NameError"
   ]
  },
  {
   "cell_type": "code",
   "execution_count": 2,
   "id": "bffb062e",
   "metadata": {},
   "outputs": [
    {
     "name": "stdout",
     "output_type": "stream",
     "text": [
      "the variable has not been assigned\n"
     ]
    }
   ],
   "source": [
    "#try exept\n",
    "try:\n",
    "    a=b\n",
    "except:\n",
    "    print('the variable has not been assigned')"
   ]
  },
  {
   "cell_type": "code",
   "execution_count": 4,
   "id": "2899aa2f",
   "metadata": {},
   "outputs": [
    {
     "name": "stdout",
     "output_type": "stream",
     "text": [
      "name 'b' is not defined\n"
     ]
    }
   ],
   "source": [
    "#try exept\n",
    "try:\n",
    "    a=b\n",
    "except NameError as ex:\n",
    "    print(ex)"
   ]
  },
  {
   "cell_type": "code",
   "execution_count": 6,
   "id": "60f06256",
   "metadata": {},
   "outputs": [
    {
     "ename": "ZeroDivisionError",
     "evalue": "division by zero",
     "output_type": "error",
     "traceback": [
      "\u001b[0;31m---------------------------------------------------------------------------\u001b[0m",
      "\u001b[0;31mZeroDivisionError\u001b[0m                         Traceback (most recent call last)",
      "Cell \u001b[0;32mIn[6], line 1\u001b[0m\n\u001b[0;32m----> 1\u001b[0m result \u001b[38;5;241m=\u001b[39m \u001b[38;5;241;43m1\u001b[39;49m\u001b[38;5;241;43m/\u001b[39;49m\u001b[38;5;241;43m0\u001b[39;49m\n",
      "\u001b[0;31mZeroDivisionError\u001b[0m: division by zero"
     ]
    }
   ],
   "source": [
    "result = 1/0"
   ]
  },
  {
   "cell_type": "code",
   "execution_count": 8,
   "id": "00ad3e42",
   "metadata": {},
   "outputs": [
    {
     "name": "stdout",
     "output_type": "stream",
     "text": [
      "division by zero\n",
      "enter denominator greater than zero\n"
     ]
    }
   ],
   "source": [
    "try:\n",
    "    result = 1/0\n",
    "except ZeroDivisionError as ex:\n",
    "    print(ex)\n",
    "    print('enter denominator greater than zero')"
   ]
  },
  {
   "cell_type": "code",
   "execution_count": null,
   "id": "bede3404",
   "metadata": {},
   "outputs": [
    {
     "name": "stdout",
     "output_type": "stream",
     "text": [
      "name 'b' is not defined\n",
      "main exception got caught here\n"
     ]
    }
   ],
   "source": [
    "#multiple exception\n",
    "try:\n",
    "    result = 1/2\n",
    "    a = b\n",
    "except ZeroDivisionError as ex:\n",
    "    print(ex)\n",
    "    print('enter denominator greater than zero')\n",
    "except Exception as ex1:\n",
    "    print(ex1)\n",
    "    print('main exception got caught here')"
   ]
  },
  {
   "cell_type": "code",
   "execution_count": null,
   "id": "2edbb4e5",
   "metadata": {},
   "outputs": [
    {
     "name": "stdout",
     "output_type": "stream",
     "text": [
      "this is not a valid number\n"
     ]
    }
   ],
   "source": [
    "try:\n",
    "    num = int(input('enter a number'))\n",
    "    result = 10/num\n",
    "except ValueError:\n",
    "    print('this is not a valid number')\n",
    "except ZeroDivisionError:\n",
    "    print('enter denominator greater than zero')\n",
    "except Exception as ex:\n",
    "    print(ex)\n",
    "    print('main exception got caught here')"
   ]
  },
  {
   "cell_type": "code",
   "execution_count": 13,
   "id": "2dfe5edd",
   "metadata": {},
   "outputs": [
    {
     "name": "stdout",
     "output_type": "stream",
     "text": [
      "enter denominator greater than zero\n",
      "execution complete and input was 0\n"
     ]
    }
   ],
   "source": [
    "#else block\n",
    "#finally block\n",
    "\n",
    "\n",
    "try:\n",
    "    num = int(input('enter a number'))\n",
    "    result = 10/num\n",
    "except ValueError:\n",
    "    print('this is not a valid number')\n",
    "except ZeroDivisionError:\n",
    "    print('enter denominator greater than zero')\n",
    "except Exception as ex:\n",
    "    print(ex)\n",
    "    print('main exception got caught here')\n",
    "else: \n",
    "    print(f'the result is {result}')\n",
    "finally:\n",
    "    print(f'execution complete and input was {num}')"
   ]
  },
  {
   "cell_type": "code",
   "execution_count": 4,
   "id": "82ff6988",
   "metadata": {},
   "outputs": [
    {
     "name": "stdout",
     "output_type": "stream",
     "text": [
      "hello world\n",
      "this is a new line\n",
      "appending to existing file\n",
      "first line \n",
      "second line \n",
      "third line \n",
      "\n",
      "file closed\n"
     ]
    }
   ],
   "source": [
    "#file and exception\n",
    "\n",
    "try:\n",
    "    file = open('example.txt','r')\n",
    "    content = file.read()\n",
    "    print(content)\n",
    "\n",
    "except FileNotFoundError:\n",
    "    print('the file does not exist')\n",
    "except Exception as ex:\n",
    "    print(ex)\n",
    "\n",
    "finally:\n",
    "    if 'file' in locals() or not file.closed():\n",
    "        file.close()\n",
    "        print('file closed')\n"
   ]
  },
  {
   "cell_type": "code",
   "execution_count": null,
   "id": "138acf83",
   "metadata": {},
   "outputs": [],
   "source": []
  }
 ],
 "metadata": {
  "kernelspec": {
   "display_name": "venv",
   "language": "python",
   "name": "python3"
  },
  "language_info": {
   "codemirror_mode": {
    "name": "ipython",
    "version": 3
   },
   "file_extension": ".py",
   "mimetype": "text/x-python",
   "name": "python",
   "nbconvert_exporter": "python",
   "pygments_lexer": "ipython3",
   "version": "3.9.6"
  }
 },
 "nbformat": 4,
 "nbformat_minor": 5
}
