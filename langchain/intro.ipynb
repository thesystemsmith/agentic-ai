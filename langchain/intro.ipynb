{
 "cells": [
  {
   "cell_type": "markdown",
   "id": "3a85a9f4",
   "metadata": {},
   "source": [
    "### what will i do?\n",
    "\n",
    "- setup langchain, langsmith, langserve\n",
    "- components of langchain: prompt templates, models, output parsers\n",
    "- build a simple app with langchain\n",
    "- trace app with langsmith\n",
    "- serve app with langserve"
   ]
  },
  {
   "cell_type": "code",
   "execution_count": 1,
   "id": "84c8dd74",
   "metadata": {},
   "outputs": [
    {
     "name": "stdout",
     "output_type": "stream",
     "text": [
      "Collecting langchain\n",
      "  Downloading langchain-0.3.27-py3-none-any.whl (1.0 MB)\n",
      "\u001b[K     |████████████████████████████████| 1.0 MB 4.5 MB/s eta 0:00:01\n",
      "\u001b[?25hRequirement already satisfied: requests<3,>=2 in /Users/abdul/Documents/agentic-ai/venv/lib/python3.9/site-packages (from langchain) (2.32.5)\n",
      "Collecting PyYAML>=5.3\n",
      "  Downloading pyyaml-6.0.3-cp39-cp39-macosx_11_0_arm64.whl (174 kB)\n",
      "\u001b[K     |████████████████████████████████| 174 kB 69.2 MB/s eta 0:00:01\n",
      "\u001b[?25hCollecting langchain-text-splitters<1.0.0,>=0.3.9\n",
      "  Downloading langchain_text_splitters-0.3.11-py3-none-any.whl (33 kB)\n",
      "Collecting SQLAlchemy<3,>=1.4\n",
      "  Downloading sqlalchemy-2.0.44-cp39-cp39-macosx_11_0_arm64.whl (2.1 MB)\n",
      "\u001b[K     |████████████████████████████████| 2.1 MB 15.3 MB/s eta 0:00:01\n",
      "\u001b[?25hCollecting langchain-core<1.0.0,>=0.3.72\n",
      "  Downloading langchain_core-0.3.79-py3-none-any.whl (449 kB)\n",
      "\u001b[K     |████████████████████████████████| 449 kB 27.9 MB/s eta 0:00:01\n",
      "\u001b[?25hCollecting langsmith>=0.1.17\n",
      "  Downloading langsmith-0.4.35-py3-none-any.whl (387 kB)\n",
      "\u001b[K     |████████████████████████████████| 387 kB 66.6 MB/s eta 0:00:01\n",
      "\u001b[?25hCollecting async-timeout<5.0.0,>=4.0.0\n",
      "  Downloading async_timeout-4.0.3-py3-none-any.whl (5.7 kB)\n",
      "Requirement already satisfied: pydantic<3.0.0,>=2.7.4 in /Users/abdul/Documents/agentic-ai/venv/lib/python3.9/site-packages (from langchain) (2.11.9)\n",
      "Requirement already satisfied: packaging<26.0.0,>=23.2.0 in /Users/abdul/Documents/agentic-ai/venv/lib/python3.9/site-packages (from langchain-core<1.0.0,>=0.3.72->langchain) (25.0)\n",
      "Collecting tenacity!=8.4.0,<10.0.0,>=8.1.0\n",
      "  Downloading tenacity-9.1.2-py3-none-any.whl (28 kB)\n",
      "Requirement already satisfied: typing-extensions<5.0.0,>=4.7.0 in /Users/abdul/Documents/agentic-ai/venv/lib/python3.9/site-packages (from langchain-core<1.0.0,>=0.3.72->langchain) (4.15.0)\n",
      "Collecting jsonpatch<2.0.0,>=1.33.0\n",
      "  Downloading jsonpatch-1.33-py2.py3-none-any.whl (12 kB)\n",
      "Collecting jsonpointer>=1.9\n",
      "  Downloading jsonpointer-3.0.0-py2.py3-none-any.whl (7.6 kB)\n",
      "Collecting requests-toolbelt>=1.0.0\n",
      "  Downloading requests_toolbelt-1.0.0-py2.py3-none-any.whl (54 kB)\n",
      "\u001b[K     |████████████████████████████████| 54 kB 8.7 MB/s  eta 0:00:01\n",
      "\u001b[?25hCollecting httpx<1,>=0.23.0\n",
      "  Downloading httpx-0.28.1-py3-none-any.whl (73 kB)\n",
      "\u001b[K     |████████████████████████████████| 73 kB 16.3 MB/s eta 0:00:01\n",
      "\u001b[?25hCollecting zstandard>=0.23.0\n",
      "  Downloading zstandard-0.25.0-cp39-cp39-macosx_11_0_arm64.whl (640 kB)\n",
      "\u001b[K     |████████████████████████████████| 640 kB 63.6 MB/s eta 0:00:01\n",
      "\u001b[?25hCollecting orjson>=3.9.14\n",
      "  Downloading orjson-3.11.3-cp39-cp39-macosx_10_15_x86_64.macosx_11_0_arm64.macosx_10_15_universal2.whl (238 kB)\n",
      "\u001b[K     |████████████████████████████████| 238 kB 44.9 MB/s eta 0:00:01\n",
      "\u001b[?25hCollecting httpcore==1.*\n",
      "  Downloading httpcore-1.0.9-py3-none-any.whl (78 kB)\n",
      "\u001b[K     |████████████████████████████████| 78 kB 18.6 MB/s eta 0:00:01\n",
      "\u001b[?25hRequirement already satisfied: certifi in /Users/abdul/Documents/agentic-ai/venv/lib/python3.9/site-packages (from httpx<1,>=0.23.0->langsmith>=0.1.17->langchain) (2025.8.3)\n",
      "Requirement already satisfied: idna in /Users/abdul/Documents/agentic-ai/venv/lib/python3.9/site-packages (from httpx<1,>=0.23.0->langsmith>=0.1.17->langchain) (3.10)\n",
      "Collecting anyio\n",
      "  Downloading anyio-4.11.0-py3-none-any.whl (109 kB)\n",
      "\u001b[K     |████████████████████████████████| 109 kB 45.1 MB/s eta 0:00:01\n",
      "\u001b[?25hCollecting h11>=0.16\n",
      "  Downloading h11-0.16.0-py3-none-any.whl (37 kB)\n",
      "Requirement already satisfied: annotated-types>=0.6.0 in /Users/abdul/Documents/agentic-ai/venv/lib/python3.9/site-packages (from pydantic<3.0.0,>=2.7.4->langchain) (0.7.0)\n",
      "Requirement already satisfied: pydantic-core==2.33.2 in /Users/abdul/Documents/agentic-ai/venv/lib/python3.9/site-packages (from pydantic<3.0.0,>=2.7.4->langchain) (2.33.2)\n",
      "Requirement already satisfied: typing-inspection>=0.4.0 in /Users/abdul/Documents/agentic-ai/venv/lib/python3.9/site-packages (from pydantic<3.0.0,>=2.7.4->langchain) (0.4.1)\n",
      "Requirement already satisfied: urllib3<3,>=1.21.1 in /Users/abdul/Documents/agentic-ai/venv/lib/python3.9/site-packages (from requests<3,>=2->langchain) (2.5.0)\n",
      "Requirement already satisfied: charset_normalizer<4,>=2 in /Users/abdul/Documents/agentic-ai/venv/lib/python3.9/site-packages (from requests<3,>=2->langchain) (3.4.3)\n",
      "Requirement already satisfied: exceptiongroup>=1.0.2 in /Users/abdul/Documents/agentic-ai/venv/lib/python3.9/site-packages (from anyio->httpx<1,>=0.23.0->langsmith>=0.1.17->langchain) (1.3.0)\n",
      "Collecting sniffio>=1.1\n",
      "  Downloading sniffio-1.3.1-py3-none-any.whl (10 kB)\n",
      "Installing collected packages: sniffio, h11, httpcore, anyio, zstandard, requests-toolbelt, orjson, jsonpointer, httpx, tenacity, PyYAML, langsmith, jsonpatch, langchain-core, SQLAlchemy, langchain-text-splitters, async-timeout, langchain\n",
      "Successfully installed PyYAML-6.0.3 SQLAlchemy-2.0.44 anyio-4.11.0 async-timeout-4.0.3 h11-0.16.0 httpcore-1.0.9 httpx-0.28.1 jsonpatch-1.33 jsonpointer-3.0.0 langchain-0.3.27 langchain-core-0.3.79 langchain-text-splitters-0.3.11 langsmith-0.4.35 orjson-3.11.3 requests-toolbelt-1.0.0 sniffio-1.3.1 tenacity-9.1.2 zstandard-0.25.0\n"
     ]
    }
   ],
   "source": [
    "!pip install langchain"
   ]
  },
  {
   "cell_type": "code",
   "execution_count": null,
   "id": "53940a1a",
   "metadata": {},
   "outputs": [],
   "source": []
  }
 ],
 "metadata": {
  "kernelspec": {
   "display_name": "venv",
   "language": "python",
   "name": "python3"
  },
  "language_info": {
   "codemirror_mode": {
    "name": "ipython",
    "version": 3
   },
   "file_extension": ".py",
   "mimetype": "text/x-python",
   "name": "python",
   "nbconvert_exporter": "python",
   "pygments_lexer": "ipython3",
   "version": "3.9.6"
  }
 },
 "nbformat": 4,
 "nbformat_minor": 5
}
